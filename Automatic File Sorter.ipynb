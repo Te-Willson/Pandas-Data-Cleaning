{
 "cells": [
  {
   "cell_type": "markdown",
   "id": "582ee245",
   "metadata": {},
   "source": [
    "# Automatic File Sorter in File Explorer"
   ]
  },
  {
   "cell_type": "code",
   "execution_count": 1,
   "id": "e0378477",
   "metadata": {},
   "outputs": [],
   "source": [
    "import os, shutil"
   ]
  },
  {
   "cell_type": "code",
   "execution_count": 19,
   "id": "1e02acc3",
   "metadata": {},
   "outputs": [],
   "source": [
    "path = r\"C:/Users/TJ/Desktop/Data Projects/\""
   ]
  },
  {
   "cell_type": "code",
   "execution_count": 25,
   "id": "2fa4be0c",
   "metadata": {},
   "outputs": [],
   "source": [
    "file_name = os.listdir(path)\n"
   ]
  },
  {
   "cell_type": "code",
   "execution_count": 42,
   "id": "a42b4fdb",
   "metadata": {},
   "outputs": [],
   "source": [
    "folder_names = ['PowerBI Files', 'Images', 'Gifs', 'SQL Files', 'Excel Files']\n",
    "\n",
    "for loop in range(0,5):\n",
    "    if not os.path.exists(path + folder_names[loop]):\n",
    "        #print(path + folder_names[loop])\n",
    "        os.makedirs(path + folder_names[loop])\n",
    "\n",
    "for file in file_name:\n",
    "    if \".pbix\" in file and not os.path.exists(path + \"PowerBI Files/\" + file):\n",
    "        shutil.move(path + file, path + \"PowerBI Files/\" + file)\n",
    "    elif \".png\" in file and not os.path.exists(path + \"Images/\" + file):\n",
    "        shutil.move(path + file, path + \"Images/\" + file)\n",
    "    elif \".jpg\" in file and not os.path.exists(path + \"Images/\" + file):\n",
    "        shutil.move(path + file, path + \"Images/\" + file)\n",
    "    elif \".gif\" in file and not os.path.exists(path + \"Gifs/\" + file):\n",
    "        shutil.move(path + file, path + \"Gifs/\" + file)\n",
    "    elif \".sql\" in file and not os.path.exists(path + \"SQL Files/\" + file):\n",
    "        shutil.move(path + file, path + \"SQL Files/\" + file)\n",
    "    elif \".xlsx\" in file and not os.path.exists(path + \"Excel Files/\" + file):\n",
    "        shutil.move(path + file, path + \"Excel Files/\" + file)"
   ]
  },
  {
   "cell_type": "code",
   "execution_count": 38,
   "id": "17588f7a",
   "metadata": {},
   "outputs": [],
   "source": []
  },
  {
   "cell_type": "code",
   "execution_count": null,
   "id": "25d282c4",
   "metadata": {},
   "outputs": [],
   "source": []
  },
  {
   "cell_type": "code",
   "execution_count": null,
   "id": "6bbb7c46",
   "metadata": {},
   "outputs": [],
   "source": []
  },
  {
   "cell_type": "code",
   "execution_count": null,
   "id": "d23f7dc5",
   "metadata": {},
   "outputs": [],
   "source": []
  },
  {
   "cell_type": "code",
   "execution_count": null,
   "id": "4aec339e",
   "metadata": {},
   "outputs": [],
   "source": []
  },
  {
   "cell_type": "code",
   "execution_count": null,
   "id": "8f0a895c",
   "metadata": {},
   "outputs": [],
   "source": []
  },
  {
   "cell_type": "code",
   "execution_count": null,
   "id": "a4a1526b",
   "metadata": {},
   "outputs": [],
   "source": []
  },
  {
   "cell_type": "code",
   "execution_count": null,
   "id": "6498281b",
   "metadata": {},
   "outputs": [],
   "source": []
  },
  {
   "cell_type": "code",
   "execution_count": null,
   "id": "0f51ed9a",
   "metadata": {},
   "outputs": [],
   "source": []
  },
  {
   "cell_type": "code",
   "execution_count": null,
   "id": "50a5e8ef",
   "metadata": {},
   "outputs": [],
   "source": []
  },
  {
   "cell_type": "code",
   "execution_count": null,
   "id": "48ba142c",
   "metadata": {},
   "outputs": [],
   "source": []
  }
 ],
 "metadata": {
  "kernelspec": {
   "display_name": "Python 3 (ipykernel)",
   "language": "python",
   "name": "python3"
  },
  "language_info": {
   "codemirror_mode": {
    "name": "ipython",
    "version": 3
   },
   "file_extension": ".py",
   "mimetype": "text/x-python",
   "name": "python",
   "nbconvert_exporter": "python",
   "pygments_lexer": "ipython3",
   "version": "3.11.5"
  }
 },
 "nbformat": 4,
 "nbformat_minor": 5
}
