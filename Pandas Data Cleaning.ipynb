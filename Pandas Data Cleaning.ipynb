{
 "cells": [
  {
   "cell_type": "markdown",
   "id": "3b66ed20",
   "metadata": {},
   "source": [
    "# Data Cleaning in Pandas"
   ]
  },
  {
   "cell_type": "code",
   "execution_count": 1,
   "id": "4b1a7cdb",
   "metadata": {},
   "outputs": [],
   "source": [
    "import pandas as pd"
   ]
  },
  {
   "cell_type": "code",
   "execution_count": 4,
   "id": "b79384c9",
   "metadata": {},
   "outputs": [],
   "source": [
    "df = pd.read_excel(r\"C:\\Users\\TJ\\Desktop\\Data Projects\\Customer Call List.xlsx\")"
   ]
  },
  {
   "cell_type": "code",
   "execution_count": 5,
   "id": "f6c92778",
   "metadata": {},
   "outputs": [],
   "source": [
    "df = df.drop_duplicates()"
   ]
  },
  {
   "cell_type": "code",
   "execution_count": 6,
   "id": "debdbd3e",
   "metadata": {},
   "outputs": [],
   "source": [
    "df = df.drop(columns = 'Not_Useful_Column')"
   ]
  },
  {
   "cell_type": "code",
   "execution_count": 7,
   "id": "f50a0600",
   "metadata": {},
   "outputs": [],
   "source": [
    "df[\"Last_Name\"] =df[\"Last_Name\"].str.strip(\"123._/\")"
   ]
  },
  {
   "cell_type": "code",
   "execution_count": 8,
   "id": "e1344272",
   "metadata": {},
   "outputs": [],
   "source": [
    "df[\"Phone_Number\"] = df[\"Phone_Number\"].str.replace('[^a-zA-Z0-9]','', regex = True)"
   ]
  },
  {
   "cell_type": "code",
   "execution_count": 9,
   "id": "adf533e7",
   "metadata": {},
   "outputs": [],
   "source": [
    "df[\"Phone_Number\"] = df[\"Phone_Number\"].apply(lambda x: str(x))\n",
    "\n",
    "df[\"Phone_Number\"] = df[\"Phone_Number\"].apply(lambda x: x[0:3] + '-' + x[3:6] + '-' + x[6:10])\n",
    "\n",
    "df[\"Phone_Number\"] = df[\"Phone_Number\"].str.replace('nan--', '')\n",
    "\n",
    "df[\"Phone_Number\"] = df[\"Phone_Number\"].str.replace('Na--', '')\n"
   ]
  },
  {
   "cell_type": "code",
   "execution_count": 10,
   "id": "3b894cd2",
   "metadata": {},
   "outputs": [],
   "source": [
    "df[[\"Street_Address\", \"State\", \"Zip_Code\"]] = df[\"Address\"].str.split(pat=',', n=2, expand = True)"
   ]
  },
  {
   "cell_type": "code",
   "execution_count": 11,
   "id": "02581988",
   "metadata": {},
   "outputs": [],
   "source": [
    "df[\"Paying Customer\"] = df[\"Paying Customer\"].str.replace(\"Yes\", \"Y\")\n",
    "df[\"Paying Customer\"] = df[\"Paying Customer\"].str.replace(\"No\", \"N\")\n",
    "df[\"Do_Not_Contact\"] = df[\"Do_Not_Contact\"].str.replace(\"Yes\", \"Y\")\n",
    "df[\"Do_Not_Contact\"] = df[\"Do_Not_Contact\"].str.replace(\"No\", \"N\")"
   ]
  },
  {
   "cell_type": "code",
   "execution_count": 12,
   "id": "4bbb079b",
   "metadata": {},
   "outputs": [],
   "source": [
    "df = df.replace(\"N/a\", '')\n",
    "\n",
    "df = df.fillna('')"
   ]
  },
  {
   "cell_type": "code",
   "execution_count": 13,
   "id": "d0c30198",
   "metadata": {},
   "outputs": [],
   "source": [
    "for x in df.index:\n",
    "    if df.loc[x, \"Do_Not_Contact\"] == \"Y\" :\n",
    "        df.drop(x, inplace=True)"
   ]
  },
  {
   "cell_type": "code",
   "execution_count": 14,
   "id": "810df620",
   "metadata": {},
   "outputs": [],
   "source": [
    "for x in df.index:\n",
    "    if df.loc[x, \"Phone_Number\"] == \"\" :\n",
    "        df.drop(x, inplace=True)"
   ]
  },
  {
   "cell_type": "code",
   "execution_count": 15,
   "id": "3a081a6d",
   "metadata": {},
   "outputs": [],
   "source": [
    "df = df.reset_index(drop=True)"
   ]
  },
  {
   "cell_type": "code",
   "execution_count": 16,
   "id": "3e88ce49",
   "metadata": {},
   "outputs": [
    {
     "data": {
      "text/html": [
       "<div>\n",
       "<style scoped>\n",
       "    .dataframe tbody tr th:only-of-type {\n",
       "        vertical-align: middle;\n",
       "    }\n",
       "\n",
       "    .dataframe tbody tr th {\n",
       "        vertical-align: top;\n",
       "    }\n",
       "\n",
       "    .dataframe thead th {\n",
       "        text-align: right;\n",
       "    }\n",
       "</style>\n",
       "<table border=\"1\" class=\"dataframe\">\n",
       "  <thead>\n",
       "    <tr style=\"text-align: right;\">\n",
       "      <th></th>\n",
       "      <th>CustomerID</th>\n",
       "      <th>First_Name</th>\n",
       "      <th>Last_Name</th>\n",
       "      <th>Phone_Number</th>\n",
       "      <th>Address</th>\n",
       "      <th>Paying Customer</th>\n",
       "      <th>Do_Not_Contact</th>\n",
       "      <th>Street_Address</th>\n",
       "      <th>State</th>\n",
       "      <th>Zip_Code</th>\n",
       "    </tr>\n",
       "  </thead>\n",
       "  <tbody>\n",
       "    <tr>\n",
       "      <th>0</th>\n",
       "      <td>1001</td>\n",
       "      <td>Frodo</td>\n",
       "      <td>Baggins</td>\n",
       "      <td>123-545-5421</td>\n",
       "      <td>123 Shire Lane, Shire</td>\n",
       "      <td>Y</td>\n",
       "      <td>N</td>\n",
       "      <td>123 Shire Lane</td>\n",
       "      <td>Shire</td>\n",
       "      <td></td>\n",
       "    </tr>\n",
       "    <tr>\n",
       "      <th>1</th>\n",
       "      <td>1005</td>\n",
       "      <td>Jon</td>\n",
       "      <td>Snow</td>\n",
       "      <td>876-678-3469</td>\n",
       "      <td>123 Dragons Road</td>\n",
       "      <td>Y</td>\n",
       "      <td>N</td>\n",
       "      <td>123 Dragons Road</td>\n",
       "      <td></td>\n",
       "      <td></td>\n",
       "    </tr>\n",
       "    <tr>\n",
       "      <th>2</th>\n",
       "      <td>1008</td>\n",
       "      <td>Sherlock</td>\n",
       "      <td>Holmes</td>\n",
       "      <td>876-678-3469</td>\n",
       "      <td>98 Clue Drive</td>\n",
       "      <td>N</td>\n",
       "      <td>N</td>\n",
       "      <td>98 Clue Drive</td>\n",
       "      <td></td>\n",
       "      <td></td>\n",
       "    </tr>\n",
       "    <tr>\n",
       "      <th>3</th>\n",
       "      <td>1010</td>\n",
       "      <td>Peter</td>\n",
       "      <td>Parker</td>\n",
       "      <td>123-545-5421</td>\n",
       "      <td>25th Main Street, New York</td>\n",
       "      <td>Y</td>\n",
       "      <td>N</td>\n",
       "      <td>25th Main Street</td>\n",
       "      <td>New York</td>\n",
       "      <td></td>\n",
       "    </tr>\n",
       "    <tr>\n",
       "      <th>4</th>\n",
       "      <td>1013</td>\n",
       "      <td>Don</td>\n",
       "      <td>Draper</td>\n",
       "      <td>123-543-2345</td>\n",
       "      <td>2039 Main Street</td>\n",
       "      <td>Y</td>\n",
       "      <td>N</td>\n",
       "      <td>2039 Main Street</td>\n",
       "      <td></td>\n",
       "      <td></td>\n",
       "    </tr>\n",
       "    <tr>\n",
       "      <th>5</th>\n",
       "      <td>1014</td>\n",
       "      <td>Leslie</td>\n",
       "      <td>Knope</td>\n",
       "      <td>876-678-3469</td>\n",
       "      <td>343 City Parkway</td>\n",
       "      <td>Y</td>\n",
       "      <td>N</td>\n",
       "      <td>343 City Parkway</td>\n",
       "      <td></td>\n",
       "      <td></td>\n",
       "    </tr>\n",
       "    <tr>\n",
       "      <th>6</th>\n",
       "      <td>1015</td>\n",
       "      <td>Toby</td>\n",
       "      <td>Flenderson</td>\n",
       "      <td>304-762-2467</td>\n",
       "      <td>214 HR Avenue</td>\n",
       "      <td>N</td>\n",
       "      <td>N</td>\n",
       "      <td>214 HR Avenue</td>\n",
       "      <td></td>\n",
       "      <td></td>\n",
       "    </tr>\n",
       "    <tr>\n",
       "      <th>7</th>\n",
       "      <td>1016</td>\n",
       "      <td>Ron</td>\n",
       "      <td>Weasley</td>\n",
       "      <td>123-545-5421</td>\n",
       "      <td>2395 Hogwarts Avenue</td>\n",
       "      <td>N</td>\n",
       "      <td>N</td>\n",
       "      <td>2395 Hogwarts Avenue</td>\n",
       "      <td></td>\n",
       "      <td></td>\n",
       "    </tr>\n",
       "    <tr>\n",
       "      <th>8</th>\n",
       "      <td>1017</td>\n",
       "      <td>Michael</td>\n",
       "      <td>Scott</td>\n",
       "      <td>123-643-9775</td>\n",
       "      <td>121 Paper Avenue, Pennsylvania</td>\n",
       "      <td>Y</td>\n",
       "      <td>N</td>\n",
       "      <td>121 Paper Avenue</td>\n",
       "      <td>Pennsylvania</td>\n",
       "      <td></td>\n",
       "    </tr>\n",
       "    <tr>\n",
       "      <th>9</th>\n",
       "      <td>1020</td>\n",
       "      <td>Anakin</td>\n",
       "      <td>Skywalker</td>\n",
       "      <td>876-678-3469</td>\n",
       "      <td>910 Tatooine Road, Tatooine</td>\n",
       "      <td>Y</td>\n",
       "      <td>N</td>\n",
       "      <td>910 Tatooine Road</td>\n",
       "      <td>Tatooine</td>\n",
       "      <td></td>\n",
       "    </tr>\n",
       "  </tbody>\n",
       "</table>\n",
       "</div>"
      ],
      "text/plain": [
       "   CustomerID First_Name   Last_Name  Phone_Number  \\\n",
       "0        1001      Frodo     Baggins  123-545-5421   \n",
       "1        1005        Jon        Snow  876-678-3469   \n",
       "2        1008   Sherlock      Holmes  876-678-3469   \n",
       "3        1010      Peter      Parker  123-545-5421   \n",
       "4        1013        Don      Draper  123-543-2345   \n",
       "5        1014     Leslie       Knope  876-678-3469   \n",
       "6        1015       Toby  Flenderson  304-762-2467   \n",
       "7        1016        Ron     Weasley  123-545-5421   \n",
       "8        1017   Michael        Scott  123-643-9775   \n",
       "9        1020     Anakin   Skywalker  876-678-3469   \n",
       "\n",
       "                          Address Paying Customer Do_Not_Contact  \\\n",
       "0           123 Shire Lane, Shire               Y              N   \n",
       "1                123 Dragons Road               Y              N   \n",
       "2                   98 Clue Drive               N              N   \n",
       "3      25th Main Street, New York               Y              N   \n",
       "4                2039 Main Street               Y              N   \n",
       "5                343 City Parkway               Y              N   \n",
       "6                   214 HR Avenue               N              N   \n",
       "7            2395 Hogwarts Avenue               N              N   \n",
       "8  121 Paper Avenue, Pennsylvania               Y              N   \n",
       "9     910 Tatooine Road, Tatooine               Y              N   \n",
       "\n",
       "         Street_Address          State Zip_Code  \n",
       "0        123 Shire Lane          Shire           \n",
       "1      123 Dragons Road                          \n",
       "2         98 Clue Drive                          \n",
       "3      25th Main Street       New York           \n",
       "4      2039 Main Street                          \n",
       "5      343 City Parkway                          \n",
       "6         214 HR Avenue                          \n",
       "7  2395 Hogwarts Avenue                          \n",
       "8      121 Paper Avenue   Pennsylvania           \n",
       "9     910 Tatooine Road       Tatooine           "
      ]
     },
     "execution_count": 16,
     "metadata": {},
     "output_type": "execute_result"
    }
   ],
   "source": [
    "df"
   ]
  },
  {
   "cell_type": "code",
   "execution_count": null,
   "id": "17929af6",
   "metadata": {},
   "outputs": [],
   "source": []
  }
 ],
 "metadata": {
  "kernelspec": {
   "display_name": "Python 3 (ipykernel)",
   "language": "python",
   "name": "python3"
  },
  "language_info": {
   "codemirror_mode": {
    "name": "ipython",
    "version": 3
   },
   "file_extension": ".py",
   "mimetype": "text/x-python",
   "name": "python",
   "nbconvert_exporter": "python",
   "pygments_lexer": "ipython3",
   "version": "3.11.5"
  }
 },
 "nbformat": 4,
 "nbformat_minor": 5
}
