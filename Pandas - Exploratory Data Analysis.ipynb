{
 "cells": [
  {
   "cell_type": "markdown",
   "id": "b0805b34",
   "metadata": {},
   "source": [
    "# EDA in Pandas"
   ]
  },
  {
   "cell_type": "code",
   "execution_count": null,
   "id": "87012a0c",
   "metadata": {},
   "outputs": [],
   "source": [
    "import pandas as pd\n",
    "import seaborn as sns\n",
    "import matplotlib.pyplot as plt"
   ]
  },
  {
   "cell_type": "code",
   "execution_count": null,
   "id": "8feaae30",
   "metadata": {},
   "outputs": [],
   "source": [
    "df = pd.read_csv(r\"C:\\Users\\TJ\\Desktop\\Data Projects\\world_populationEDA.csv\")"
   ]
  },
  {
   "cell_type": "code",
   "execution_count": null,
   "id": "25407e1a",
   "metadata": {},
   "outputs": [],
   "source": [
    "pd.set_option('display.float_format', lambda x: '%.2f' % x)"
   ]
  },
  {
   "cell_type": "code",
   "execution_count": null,
   "id": "714576a4",
   "metadata": {},
   "outputs": [],
   "source": [
    "df.info()"
   ]
  },
  {
   "cell_type": "code",
   "execution_count": null,
   "id": "6353e31f",
   "metadata": {},
   "outputs": [],
   "source": [
    "df.describe()"
   ]
  },
  {
   "cell_type": "code",
   "execution_count": null,
   "id": "7dc7a273",
   "metadata": {},
   "outputs": [],
   "source": [
    "df.isnull().sum()"
   ]
  },
  {
   "cell_type": "code",
   "execution_count": null,
   "id": "33573870",
   "metadata": {},
   "outputs": [],
   "source": [
    "df.nunique()"
   ]
  },
  {
   "cell_type": "code",
   "execution_count": null,
   "id": "44f3b451",
   "metadata": {},
   "outputs": [],
   "source": [
    "df.sort_values(by=\"World Population Percentage\", ascending=False).head(10)"
   ]
  },
  {
   "cell_type": "code",
   "execution_count": null,
   "id": "e10050ca",
   "metadata": {},
   "outputs": [],
   "source": [
    "df.corr(numeric_only=True)"
   ]
  },
  {
   "cell_type": "code",
   "execution_count": null,
   "id": "0372f6d1",
   "metadata": {},
   "outputs": [],
   "source": [
    "sns.heatmap(df.corr(numeric_only=True), annot = True)\n",
    "\n",
    "plt.rcParams['figure.figsize'] = (20,7)\n",
    "plt.show()"
   ]
  },
  {
   "cell_type": "code",
   "execution_count": null,
   "id": "cfa9a313",
   "metadata": {},
   "outputs": [],
   "source": [
    "df.groupby('Continent').mean(numeric_only=True).sort_values(by=\"2022 Population\",ascending=False)"
   ]
  },
  {
   "cell_type": "code",
   "execution_count": null,
   "id": "df5265d3",
   "metadata": {},
   "outputs": [],
   "source": [
    "df[df['Continent'].str.contains('Oceania')]"
   ]
  },
  {
   "cell_type": "code",
   "execution_count": null,
   "id": "89183cc4",
   "metadata": {},
   "outputs": [],
   "source": [
    "df2 = df.groupby('Continent')[df.columns[5:13][::-1]].mean(numeric_only=True).sort_values(by=\"2022 Population\",ascending=False)\n",
    "df2"
   ]
  },
  {
   "cell_type": "code",
   "execution_count": null,
   "id": "916eefd1",
   "metadata": {},
   "outputs": [],
   "source": [
    "df.columns"
   ]
  },
  {
   "cell_type": "code",
   "execution_count": null,
   "id": "ae9856d4",
   "metadata": {},
   "outputs": [],
   "source": [
    "df3 = df2.transpose()\n",
    "df3"
   ]
  },
  {
   "cell_type": "code",
   "execution_count": null,
   "id": "4679a655",
   "metadata": {},
   "outputs": [],
   "source": [
    "df3.plot()"
   ]
  },
  {
   "cell_type": "code",
   "execution_count": null,
   "id": "4ab34a09",
   "metadata": {},
   "outputs": [],
   "source": [
    "df.boxplot(figsize=(20,10))"
   ]
  },
  {
   "cell_type": "code",
   "execution_count": null,
   "id": "7ade3629",
   "metadata": {},
   "outputs": [],
   "source": [
    "df.select_dtypes(include='object')"
   ]
  }
 ],
 "metadata": {
  "kernelspec": {
   "display_name": "Python 3 (ipykernel)",
   "language": "python",
   "name": "python3"
  },
  "language_info": {
   "codemirror_mode": {
    "name": "ipython",
    "version": 3
   },
   "file_extension": ".py",
   "mimetype": "text/x-python",
   "name": "python",
   "nbconvert_exporter": "python",
   "pygments_lexer": "ipython3",
   "version": "3.11.5"
  }
 },
 "nbformat": 4,
 "nbformat_minor": 5
}
