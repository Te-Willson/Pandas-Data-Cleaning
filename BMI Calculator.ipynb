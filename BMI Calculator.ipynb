{
 "cells": [
  {
   "cell_type": "markdown",
   "id": "538d3804",
   "metadata": {},
   "source": [
    "# BMI Calculator Project"
   ]
  },
  {
   "cell_type": "markdown",
   "id": "134b8001",
   "metadata": {},
   "source": [
    "https://www.calculator.net/bmi-calculator.html"
   ]
  },
  {
   "cell_type": "markdown",
   "id": "e4226d1c",
   "metadata": {},
   "source": [
    "BMI = (weight in pounds x 703) / (height in inches x height in inches)"
   ]
  },
  {
   "cell_type": "markdown",
   "id": "5de60b7d",
   "metadata": {},
   "source": [
    "# BMI Classes"
   ]
  },
  {
   "cell_type": "markdown",
   "id": "2c7d4af3",
   "metadata": {},
   "source": [
    "Severe Thinness: < 16"
   ]
  },
  {
   "cell_type": "markdown",
   "id": "0086ccbf",
   "metadata": {},
   "source": [
    "Moderate Thinness: 16 - 17"
   ]
  },
  {
   "cell_type": "markdown",
   "id": "e9c3d428",
   "metadata": {},
   "source": [
    "Mild Thinness: 17 - 18.5"
   ]
  },
  {
   "cell_type": "markdown",
   "id": "d936dd97",
   "metadata": {},
   "source": [
    "Normal: 18.5 - 25"
   ]
  },
  {
   "cell_type": "markdown",
   "id": "b83d1c28",
   "metadata": {},
   "source": [
    "Overweight: 25 - 30\n"
   ]
  },
  {
   "cell_type": "markdown",
   "id": "7dc27954",
   "metadata": {},
   "source": [
    "Obese Class I: 30 - 35\n"
   ]
  },
  {
   "cell_type": "markdown",
   "id": "c8012fdc",
   "metadata": {},
   "source": [
    "Obese Class II: 35 - 40\n"
   ]
  },
  {
   "cell_type": "markdown",
   "id": "38c53240",
   "metadata": {},
   "source": [
    "Obese Class III: > 40"
   ]
  },
  {
   "cell_type": "code",
   "execution_count": null,
   "id": "542a1454",
   "metadata": {},
   "outputs": [],
   "source": [
    "name = input('Enter your name: ')\n",
    "\n",
    "weight = int(input(\"Enter your weight in pounds: \"))\n",
    "\n",
    "height = int(input(\"Enter your height in inches: \"))\n",
    "\n",
    "BMI = (weight * 703) / (height * height)\n",
    "\n",
    "print(\"BMI = \", BMI)\n",
    "\n",
    "\n",
    "if BMI>0: \n",
    "    if(BMI<16):\n",
    "        print(name + \", you are severely thin\")\n",
    "    elif(BMI<=17):\n",
    "        print(name + \", you are moderately thin\")\n",
    "    elif(BMI<=18.5):\n",
    "        print(name + \", you are mildly thin\")\n",
    "    elif(BMI<=25):\n",
    "        print(name + \", you are normal\")\n",
    "    elif(BMI<=30):\n",
    "        print(name + \", you are overweight\")\n",
    "    elif(BMI<=35):\n",
    "        print(name + \", you are in obesity class I\")\n",
    "    elif(BMI<=40):\n",
    "        print(name + \", you are in obesity class II\")\n",
    "    else:\n",
    "        print(name + \", you are in obesity class III\")\n",
    "else: \n",
    "    print(\"Enter valid input\")\n",
    "\n",
    "\n"
   ]
  },
  {
   "cell_type": "code",
   "execution_count": null,
   "id": "0f922896",
   "metadata": {},
   "outputs": [],
   "source": []
  }
 ],
 "metadata": {
  "kernelspec": {
   "display_name": "Python 3 (ipykernel)",
   "language": "python",
   "name": "python3"
  },
  "language_info": {
   "codemirror_mode": {
    "name": "ipython",
    "version": 3
   },
   "file_extension": ".py",
   "mimetype": "text/x-python",
   "name": "python",
   "nbconvert_exporter": "python",
   "pygments_lexer": "ipython3",
   "version": "3.11.5"
  }
 },
 "nbformat": 4,
 "nbformat_minor": 5
}
